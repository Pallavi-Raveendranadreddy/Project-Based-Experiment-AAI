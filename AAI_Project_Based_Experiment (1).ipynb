{
  "nbformat": 4,
  "nbformat_minor": 0,
  "metadata": {
    "colab": {
      "provenance": []
    },
    "kernelspec": {
      "name": "python3",
      "display_name": "Python 3"
    },
    "language_info": {
      "name": "python"
    }
  },
  "cells": [
    {
      "cell_type": "code",
      "source": [
        "import pandas as pd\n",
        "from textblob import TextBlob\n",
        "\n",
        "# Read data from Excel file\n",
        "data = pd.read_csv(\"fb_sentiment.csv\")  # Replace \"facebook_data.xlsx\" with your file path\n",
        "\n",
        "# Given name to count occurrences\n",
        "given_name = \"Kindle\"\n",
        "\n",
        "# Initialize counters for sentiment analysis and name occurrences\n",
        "sentiment_counts = {'positive': 0, 'negative': 0, 'neutral': 0}\n",
        "name_occurrences = 0\n",
        "\n",
        "# Perform sentiment analysis and count occurrences of the given name\n",
        "for index, row in data.iterrows():\n",
        "    # Perform sentiment analysis\n",
        "    blob = TextBlob(row['FBPost'])\n",
        "    polarity = blob.sentiment.polarity\n",
        "    if polarity > 0:\n",
        "        sentiment_counts['positive'] += 1\n",
        "    elif polarity < 0:\n",
        "        sentiment_counts['negative'] += 1\n",
        "    else:\n",
        "        sentiment_counts['neutral'] += 1\n",
        "\n",
        "    # Count occurrences of the given name\n",
        "    name_occurrences += row['FBPost'].lower().count(given_name.lower())\n",
        "\n",
        "# Print sentiment analysis results\n",
        "print(\"Sentiment Analysis Results:\")\n",
        "\n",
        "\n",
        "# Print occurrences of the given name\n",
        "print(f\"Occurrences of '{given_name}': {name_occurrences}\")"
      ],
      "metadata": {
        "colab": {
          "base_uri": "https://localhost:8080/"
        },
        "id": "-PWgq2SgTK9K",
        "outputId": "2a403416-2a6d-4102-c2dd-30cd732c207e"
      },
      "execution_count": 6,
      "outputs": [
        {
          "output_type": "stream",
          "name": "stdout",
          "text": [
            "Sentiment Analysis Results:\n",
            "Occurrences of 'Kindle': 700\n"
          ]
        }
      ]
    },
    {
      "cell_type": "code",
      "source": [],
      "metadata": {
        "id": "qhh3dgR_4n20"
      },
      "execution_count": null,
      "outputs": []
    }
  ]
}